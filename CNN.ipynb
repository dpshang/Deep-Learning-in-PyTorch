{
 "cells": [
  {
   "cell_type": "markdown",
   "metadata": {},
   "source": [
    "# Convolutional Neural Network"
   ]
  },
  {
   "cell_type": "markdown",
   "metadata": {},
   "source": [
    "### CNN\n",
    "\n",
    "CNN v.s DNN: add spatial information"
   ]
  },
  {
   "cell_type": "markdown",
   "metadata": {},
   "source": [
    "##### Convolution Kernel\n",
    "\n",
    "Convolution kernel (filter): its channel must be the same as the input channel, and the output channel is the number of filters \n",
    "\n",
    "<div style=\"text-align: center\">\n",
    "    <img src=\"./Asset/p3.png\" width=\"500\" height=\"200\">\n",
    "</div>"
   ]
  },
  {
   "cell_type": "code",
   "execution_count": null,
   "metadata": {},
   "outputs": [
    {
     "name": "stdout",
     "output_type": "stream",
     "text": [
      "torch.Size([1, 5, 100, 100])\n",
      "torch.Size([1, 10, 98, 98])\n",
      "torch.Size([10, 5, 3, 3])\n"
     ]
    }
   ],
   "source": [
    "import torch\n",
    "in_channels, out_channels = 5, 10\n",
    "width, height = 100, 100\n",
    "# kernel: 5*3*3, kernel size could be (4,3)\n",
    "kernel_size = 3\n",
    "batch_size = 1\n",
    "\n",
    "# Input must be mini-batch in pytorch, so add one dimension\n",
    "input = torch.randn(batch_size,\n",
    "                    in_channels,\n",
    "                    width,\n",
    "                    height)\n",
    "\n",
    "conv_layer = torch.nn.Conv2d(in_channels,\n",
    "                                out_channels,\n",
    "                                kernel_size=kernel_size)\n",
    "\n",
    "output = conv_layer(input)\n",
    "\n",
    "print(input.shape)\n",
    "print(output.shape)\n",
    "print(conv_layer.weight.shape)"
   ]
  },
  {
   "cell_type": "markdown",
   "metadata": {},
   "source": [
    "##### Padding\n",
    "\n",
    "Padding: add 0 to the edge of the input, so that the output size is the same as the input size\n",
    "\n",
    "Padding size = $\\frac{kernel\\_size - 1}{2}$"
   ]
  },
  {
   "cell_type": "code",
   "execution_count": null,
   "metadata": {},
   "outputs": [
    {
     "name": "stdout",
     "output_type": "stream",
     "text": [
      "tensor([[[[ 91., 168., 224., 215., 127.],\n",
      "          [114., 211., 295., 262., 149.],\n",
      "          [192., 259., 282., 214., 122.],\n",
      "          [194., 251., 253., 169.,  86.],\n",
      "          [ 96., 112., 110.,  68.,  31.]]]], grad_fn=<ConvolutionBackward0>)\n"
     ]
    }
   ],
   "source": [
    "input = [3,4,6,5,7,\n",
    "         2,4,6,8,2,\n",
    "         1,6,7,8,4,\n",
    "         9,7,4,6,2,\n",
    "         3,7,5,4,1]\n",
    "# view(1,1,5,5) = B*C*H*W\n",
    "input = torch.Tensor(input).view(1,1,5,5)\n",
    "\n",
    "conv_layer = torch.nn.Conv2d(1,1,kernel_size=3, padding=1, bias=False)\n",
    "\n",
    "kernel = torch.Tensor([1,2,3,4,5,6,7,8,9]).view(1,1,3,3)\n",
    "conv_layer.weight.data = kernel.data\n",
    "\n",
    "output = conv_layer(input)\n",
    "print(output)"
   ]
  },
  {
   "cell_type": "markdown",
   "metadata": {},
   "source": [
    "##### Stride"
   ]
  },
  {
   "cell_type": "code",
   "execution_count": null,
   "metadata": {},
   "outputs": [
    {
     "name": "stdout",
     "output_type": "stream",
     "text": [
      "tensor([[[[211., 262.],\n",
      "          [251., 169.]]]], grad_fn=<ConvolutionBackward0>)\n"
     ]
    }
   ],
   "source": [
    "input = [3,4,6,5,7,\n",
    "         2,4,6,8,2,\n",
    "         1,6,7,8,4,\n",
    "         9,7,4,6,2,\n",
    "         3,7,5,4,1]\n",
    "# view(1,1,5,5) = B*C*H*W\n",
    "input = torch.Tensor(input).view(1,1,5,5)\n",
    "\n",
    "conv_layer = torch.nn.Conv2d(1,1,kernel_size=3, stride = 2, bias=False)\n",
    "\n",
    "kernel = torch.Tensor([1,2,3,4,5,6,7,8,9]).view(1,1,3,3)\n",
    "conv_layer.weight.data = kernel.data\n",
    "\n",
    "output = conv_layer(input)\n",
    "print(output)"
   ]
  },
  {
   "cell_type": "markdown",
   "metadata": {},
   "source": [
    "##### Max Pooling"
   ]
  },
  {
   "cell_type": "code",
   "execution_count": null,
   "metadata": {},
   "outputs": [
    {
     "name": "stdout",
     "output_type": "stream",
     "text": [
      "tensor([[[[4., 8.],\n",
      "          [9., 8.]]]])\n"
     ]
    }
   ],
   "source": [
    "input = [3,4,6,5,\n",
    "         2,4,6,8,\n",
    "         1,6,7,8,\n",
    "         9,7,4,6]\n",
    "input = torch.Tensor(input).view(1,1,4,4)\n",
    "\n",
    "max_pooling_layer = torch.nn.MaxPool2d(kernel_size=2)\n",
    "\n",
    "output = max_pooling_layer(input)\n",
    "print(output)"
   ]
  },
  {
   "cell_type": "markdown",
   "metadata": {},
   "source": [
    "#### Simple CNN"
   ]
  },
  {
   "cell_type": "markdown",
   "metadata": {},
   "source": [
    "##### 1. Prepare Dataset"
   ]
  },
  {
   "cell_type": "code",
   "execution_count": null,
   "metadata": {},
   "outputs": [],
   "source": [
    "import torch\n",
    "from torchvision import transforms, datasets\n",
    "from torch.utils.data import DataLoader\n",
    "import torch.nn.functional as F\n",
    "import torch.optim as optim"
   ]
  },
  {
   "cell_type": "code",
   "execution_count": null,
   "metadata": {},
   "outputs": [],
   "source": [
    "batch_size = 64\n",
    "\n",
    "transform = transforms.Compose([\n",
    "    # Transfer PIL image to tensor: c*h*w, value in [0,1]\n",
    "    transforms.ToTensor(),\n",
    "    # Normalize parameters are mean and std of MNIST dataset\n",
    "    transforms.Normalize((0.1307,), (0.3081,))\n",
    "])\n",
    "\n",
    "# datasets.MNIST() includes getitem() and len()\n",
    "train_dataset = datasets.MNIST(root='./mnist_data/',\n",
    "                                 train=True,\n",
    "                                 download=True,\n",
    "                                 transform=transform)\n",
    "train_loader = DataLoader(dataset=train_dataset,\n",
    "                            batch_size=batch_size,\n",
    "                            shuffle=True)\n",
    "\n",
    "test_dataset = datasets.MNIST(root='./mnist_data/',\n",
    "                                train=False,\n",
    "                                download=True,\n",
    "                                transform=transform)\n",
    "\n",
    "test_loader = DataLoader(dataset=test_dataset,\n",
    "                            batch_size=batch_size,\n",
    "                            shuffle=False)"
   ]
  },
  {
   "cell_type": "markdown",
   "metadata": {},
   "source": [
    "##### 2. Design Model\n",
    "\n",
    "<div style=\"text-align: center\">\n",
    "    <img src=\"./Asset/p4.png\" width=\"350\" height=\"400\">\n",
    "</div>"
   ]
  },
  {
   "cell_type": "code",
   "execution_count": null,
   "metadata": {},
   "outputs": [],
   "source": [
    "class Model(torch.nn.Module):\n",
    "    def __init__(self):\n",
    "        super(Model, self).__init__()\n",
    "        self.conv1 = torch.nn.Conv2d(1,10,kernel_size=5)\n",
    "        self.conv2 = torch.nn.Conv2d(10,20,kernel_size=5)\n",
    "        self.max_pooling = torch.nn.MaxPool2d(2)\n",
    "        self.activate = torch.nn.ReLU()\n",
    "        self.fc = torch.nn.Linear(320,10)\n",
    "\n",
    "    def forward(self, x):\n",
    "        # input dim: batch*c*h*w\n",
    "        batch_size = x.size(0)\n",
    "        # view() is reshape, -1 means infer from other dimensions\n",
    "        x = self.max_pooling(self.activate(self.conv1(x)))\n",
    "        x = self.max_pooling(self.activate(self.conv2(x)))\n",
    "        # Last layer: flatten data and no activation fn\n",
    "        x = x.view(batch_size, -1) # flatten\n",
    "        return self.fc(x)\n",
    "    \n",
    "model = Model()"
   ]
  },
  {
   "cell_type": "markdown",
   "metadata": {},
   "source": [
    "##### 3. Construct Loss and Optimizer"
   ]
  },
  {
   "cell_type": "code",
   "execution_count": null,
   "metadata": {},
   "outputs": [],
   "source": [
    "criterion =  torch.nn.CrossEntropyLoss()\n",
    "optimizer = optim.SGD(model.parameters(), lr=0.01, momentum=0.5)"
   ]
  },
  {
   "cell_type": "markdown",
   "metadata": {},
   "source": [
    "##### 4. Training and Testing"
   ]
  },
  {
   "cell_type": "code",
   "execution_count": null,
   "metadata": {},
   "outputs": [],
   "source": [
    "def train(epoch):\n",
    "    running_loss = 0.0\n",
    "    for batch_idx, data in enumerate(train_loader, 0):\n",
    "        inputs, traget = data\n",
    "        optimizer.zero_grad()\n",
    "\n",
    "        # forward + backward + optimize\n",
    "        outputs = model(inputs)\n",
    "        loss = criterion(outputs, traget)\n",
    "        loss.backward()\n",
    "        optimizer.step()\n",
    "\n",
    "        # print statistics\n",
    "        running_loss += loss.item()\n",
    "        if batch_idx % 300 == 299:\n",
    "            print('[%d, %5d] loss: %.3f' % (epoch+1, batch_idx+1, running_loss/300))\n",
    "            running_loss = 0.0\n",
    "\n",
    "def test():\n",
    "    correct = 0\n",
    "    total = 0\n",
    "    # no_grad() to avoid gradient calculation\n",
    "    with torch.no_grad():\n",
    "        for data in test_loader:\n",
    "            inputs, traget = data\n",
    "            outputs = model(inputs)\n",
    "            # torch.max() return (max_value, index), dim=1 means max in each row\n",
    "            _, predicted = torch.max(outputs.data, dim=1)\n",
    "            total += traget.size(0)\n",
    "            correct += (predicted == traget).sum().item()\n",
    "    print('Accuracy on test set: %d %%' % (100*correct/total))\n",
    "    return 100*correct/total"
   ]
  },
  {
   "cell_type": "code",
   "execution_count": null,
   "metadata": {},
   "outputs": [
    {
     "name": "stdout",
     "output_type": "stream",
     "text": [
      "[1,   300] loss: 0.525\n",
      "[1,   600] loss: 0.183\n",
      "[1,   900] loss: 0.124\n",
      "Accuracy on test set: 97 %\n",
      "[2,   300] loss: 0.103\n",
      "[2,   600] loss: 0.098\n",
      "[2,   900] loss: 0.088\n",
      "Accuracy on test set: 97 %\n",
      "[3,   300] loss: 0.078\n",
      "[3,   600] loss: 0.069\n",
      "[3,   900] loss: 0.069\n",
      "Accuracy on test set: 97 %\n",
      "[4,   300] loss: 0.065\n",
      "[4,   600] loss: 0.059\n",
      "[4,   900] loss: 0.056\n",
      "Accuracy on test set: 98 %\n",
      "[5,   300] loss: 0.055\n",
      "[5,   600] loss: 0.053\n",
      "[5,   900] loss: 0.052\n",
      "Accuracy on test set: 98 %\n",
      "[6,   300] loss: 0.051\n",
      "[6,   600] loss: 0.046\n",
      "[6,   900] loss: 0.045\n",
      "Accuracy on test set: 98 %\n",
      "[7,   300] loss: 0.042\n",
      "[7,   600] loss: 0.045\n",
      "[7,   900] loss: 0.043\n",
      "Accuracy on test set: 98 %\n",
      "[8,   300] loss: 0.040\n",
      "[8,   600] loss: 0.040\n",
      "[8,   900] loss: 0.039\n",
      "Accuracy on test set: 98 %\n",
      "[9,   300] loss: 0.035\n",
      "[9,   600] loss: 0.037\n",
      "[9,   900] loss: 0.040\n",
      "Accuracy on test set: 98 %\n",
      "[10,   300] loss: 0.037\n",
      "[10,   600] loss: 0.034\n",
      "[10,   900] loss: 0.032\n",
      "Accuracy on test set: 98 %\n"
     ]
    }
   ],
   "source": [
    "if __name__ == '__main__':\n",
    "    accuracy_list = []\n",
    "    for epoch in range(10):\n",
    "        train(epoch)\n",
    "        accuracy = test()\n",
    "        accuracy_list.append(accuracy)"
   ]
  },
  {
   "cell_type": "code",
   "execution_count": null,
   "metadata": {},
   "outputs": [
    {
     "data": {
      "text/plain": [
       "Text(0.5, 0, 'Epoch')"
      ]
     },
     "metadata": {},
     "output_type": "display_data"
    },
    {
     "data": {
      "image/png": "[encoded data removed]",
      "text/plain": [
       "<Figure size 640x480 with 1 Axes>"
      ]
     },
     "metadata": {},
     "output_type": "display_data"
    }
   ],
   "source": [
    "import matplotlib.pyplot as plt\n",
    "import numpy as np\n",
    "\n",
    "plt.plot(np.arange(10), accuracy_list)\n",
    "plt.ylabel('Accuracy')\n",
    "plt.xlabel('Epoch')"
   ]
  },
  {
   "cell_type": "markdown",
   "metadata": {},
   "source": [
    "##### Exercise: More complex CNN\n",
    "\n",
    "<div style=\"text-align: center\">\n",
    "    <img src=\"./Asset/p5.png\" width=\"350\" height=\"400\">\n",
    "</div>"
   ]
  },
  {
   "cell_type": "code",
   "execution_count": null,
   "metadata": {},
   "outputs": [],
   "source": [
    "class CNN(torch.nn.Module):\n",
    "    def __init__(self):\n",
    "        super(CNN, self).__init__()\n",
    "        self.conv1 = torch.nn.Conv2d(1,10,kernel_size=3, padding=1)\n",
    "        self.conv2 = torch.nn.Conv2d(10,20,kernel_size=3)\n",
    "        self.conv3 = torch.nn.Conv2d(20,40,kernel_size=3, padding=1)\n",
    "        self.max_pooling = torch.nn.MaxPool2d(2)\n",
    "        self.activate = torch.nn.ReLU()\n",
    "        self.fc = torch.nn.Linear(360,256)\n",
    "        self.fc2 = torch.nn.Linear(256,10)\n",
    "\n",
    "    def forward(self, x):\n",
    "        # input dim: batch*c*h*w\n",
    "        batch_size = x.size(0)\n",
    "        x = self.max_pooling(self.activate(self.conv1(x)))\n",
    "        x = self.max_pooling(self.activate(self.conv2(x)))\n",
    "        x = self.max_pooling(self.activate(self.conv3(x)))\n",
    "        # Last layer: flatten data and no activation fn\n",
    "        x = x.view(batch_size, -1) # flatten\n",
    "        x = self.fc(x)\n",
    "        x = self.fc2(x)\n",
    "        return x\n",
    "    \n",
    "model = CNN()"
   ]
  },
  {
   "cell_type": "markdown",
   "metadata": {},
   "source": [
    "Need to reset criterion and optimizer and train the model again."
   ]
  },
  {
   "cell_type": "code",
   "execution_count": null,
   "metadata": {},
   "outputs": [],
   "source": [
    "criterion =  torch.nn.CrossEntropyLoss()\n",
    "optimizer = optim.SGD(model.parameters(), lr=0.01, momentum=0.5)"
   ]
  },
  {
   "cell_type": "code",
   "execution_count": null,
   "metadata": {},
   "outputs": [],
   "source": [
    "def train(epoch):\n",
    "    running_loss = 0.0\n",
    "    for batch_idx, data in enumerate(train_loader, 0):\n",
    "        inputs, traget = data\n",
    "        optimizer.zero_grad()\n",
    "\n",
    "        # forward + backward + optimize\n",
    "        outputs = model(inputs)\n",
    "        loss = criterion(outputs, traget)\n",
    "        loss.backward()\n",
    "        optimizer.step()\n",
    "\n",
    "        # print statistics\n",
    "        running_loss += loss.item()\n",
    "        if batch_idx % 300 == 299:\n",
    "            print('[%d, %5d] loss: %.3f' % (epoch+1, batch_idx+1, running_loss/300))\n",
    "            running_loss = 0.0\n",
    "\n",
    "def test():\n",
    "    correct = 0\n",
    "    total = 0\n",
    "    # no_grad() to avoid gradient calculation\n",
    "    with torch.no_grad():\n",
    "        for data in test_loader:\n",
    "            inputs, traget = data\n",
    "            outputs = model(inputs)\n",
    "            # torch.max() return (max_value, index), dim=1 means max in each row\n",
    "            _, predicted = torch.max(outputs.data, dim=1)\n",
    "            total += traget.size(0)\n",
    "            correct += (predicted == traget).sum().item()\n",
    "    print('Accuracy on test set: %d %%' % (100*correct/total))\n",
    "    return 100*correct/total"
   ]
  },
  {
   "cell_type": "code",
   "execution_count": null,
   "metadata": {},
   "outputs": [
    {
     "name": "stdout",
     "output_type": "stream",
     "text": [
      "[1,   300] loss: 1.224\n",
      "[1,   600] loss: 0.245\n",
      "[1,   900] loss: 0.156\n",
      "Accuracy on test set: 96 %\n",
      "[2,   300] loss: 0.121\n",
      "[2,   600] loss: 0.104\n",
      "[2,   900] loss: 0.095\n",
      "Accuracy on test set: 96 %\n",
      "[3,   300] loss: 0.080\n",
      "[3,   600] loss: 0.081\n",
      "[3,   900] loss: 0.072\n",
      "Accuracy on test set: 98 %\n",
      "[4,   300] loss: 0.064\n",
      "[4,   600] loss: 0.065\n",
      "[4,   900] loss: 0.061\n",
      "Accuracy on test set: 98 %\n",
      "[5,   300] loss: 0.058\n",
      "[5,   600] loss: 0.052\n",
      "[5,   900] loss: 0.054\n",
      "Accuracy on test set: 98 %\n",
      "[6,   300] loss: 0.049\n",
      "[6,   600] loss: 0.047\n",
      "[6,   900] loss: 0.048\n",
      "Accuracy on test set: 98 %\n",
      "[7,   300] loss: 0.044\n",
      "[7,   600] loss: 0.042\n",
      "[7,   900] loss: 0.046\n",
      "Accuracy on test set: 98 %\n",
      "[8,   300] loss: 0.039\n",
      "[8,   600] loss: 0.041\n",
      "[8,   900] loss: 0.040\n",
      "Accuracy on test set: 98 %\n",
      "[9,   300] loss: 0.036\n",
      "[9,   600] loss: 0.035\n",
      "[9,   900] loss: 0.038\n",
      "Accuracy on test set: 98 %\n",
      "[10,   300] loss: 0.036\n",
      "[10,   600] loss: 0.034\n",
      "[10,   900] loss: 0.031\n",
      "Accuracy on test set: 98 %\n"
     ]
    }
   ],
   "source": [
    "if __name__ == '__main__':\n",
    "    accuracy_list = []\n",
    "    for epoch in range(10):\n",
    "        train(epoch)\n",
    "        accuracy = test()\n",
    "        accuracy_list.append(accuracy)"
   ]
  },
  {
   "cell_type": "code",
   "execution_count": null,
   "metadata": {},
   "outputs": [
    {
     "data": {
      "text/plain": [
       "Text(0.5, 0, 'Epoch')"
      ]
     },
     "metadata": {},
     "output_type": "display_data"
    },
    {
     "data": {
      "image/png": "[encoded data removed]",
      "text/plain": [
       "<Figure size 640x480 with 1 Axes>"
      ]
     },
     "metadata": {},
     "output_type": "display_data"
    }
   ],
   "source": [
    "import matplotlib.pyplot as plt\n",
    "import numpy as np\n",
    "\n",
    "plt.plot(np.arange(10), accuracy_list)\n",
    "plt.ylabel('Accuracy')\n",
    "plt.xlabel('Epoch')"
   ]
  },
  {
   "cell_type": "markdown",
   "metadata": {},
   "source": [
    "### Advanced CNN"
   ]
  },
  {
   "cell_type": "markdown",
   "metadata": {},
   "source": [
    "#### GoogLeNet\n",
    "##### Inception Module\n",
    "\n",
    "Why: Provide a way to use different filter size in one layer, and train to select the best filter size\n",
    "\n",
    "<div style=\"text-align: center\">\n",
    "    <img src=\"./Asset/p6.png\" width=\"400\" height=\"350\">\n",
    "</div>\n",
    "\n",
    "How to ensure each conv layer has the same output size: by padding and stride = 1\n",
    "\n",
    "Why $1\\times 1$ conv: reduce the number of channels, and reduce the computation"
   ]
  },
  {
   "cell_type": "code",
   "execution_count": null,
   "metadata": {},
   "outputs": [],
   "source": [
    "import torch.nn as nn\n",
    "\n",
    "class Inception(nn.Module):\n",
    "    def __init__(self, in_channels):\n",
    "        super(Inception, self).__init__()\n",
    "        self.avg_pooling = torch.nn.AvgPool2d(kernel_size=3, stride=1, padding=1)\n",
    "        self.brach_pool = torch.nn.Conv2d(in_channels,24,kernel_size=1)\n",
    "        \n",
    "        self.branch1x1 = torch.nn.Conv2d(in_channels,16,kernel_size=1)\n",
    "        \n",
    "        self.branch5x5_1 = torch.nn.Conv2d(in_channels,16,kernel_size=1)\n",
    "        self.branch5x5_2 = torch.nn.Conv2d(16,24,kernel_size=5, padding=2)\n",
    "\n",
    "        self.branch3x3_1 = torch.nn.Conv2d(in_channels,16,kernel_size=1)\n",
    "        self.branch3x3_2 = torch.nn.Conv2d(16,24,kernel_size=3, padding=1)\n",
    "        self.branch3x3_3 = torch.nn.Conv2d(24,24,kernel_size=3, padding=1)\n",
    "\n",
    "    def forward(self, x):\n",
    "        branch_pool = self.avg_pooling(x)\n",
    "        branch_pool = self.brach_pool(branch_pool)\n",
    "\n",
    "        branch1x1 = self.branch1x1(x)\n",
    "\n",
    "        branch5x5 = self.branch5x5_1(x)\n",
    "        branch5x5 = self.branch5x5_2(branch5x5)\n",
    "\n",
    "        branch3x3 = self.branch3x3_1(x)\n",
    "        branch3x3 = self.branch3x3_2(branch3x3)\n",
    "        branch3x3 = self.branch3x3_3(branch3x3)\n",
    "\n",
    "        # Concatenate on the channel dimension (b*c*h*w, dim=1 means c)\n",
    "        outputs = [branch_pool, branch1x1, branch5x5, branch3x3]\n",
    "        return torch.cat(outputs, dim=1)"
   ]
  },
  {
   "cell_type": "code",
   "execution_count": null,
   "metadata": {},
   "outputs": [],
   "source": [
    "class Net(nn.Module):\n",
    "    def __init__(self):\n",
    "        super(Net, self).__init__()\n",
    "        self.conv1 = torch.nn.Conv2d(1,10,kernel_size=5)\n",
    "        self.conv2 = torch.nn.Conv2d(88,20,kernel_size=5)\n",
    "        \n",
    "        self.inception1 = Inception(in_channels=10)\n",
    "        self.inception2 = Inception(in_channels=20)\n",
    "\n",
    "        self.max_pooling = torch.nn.MaxPool2d(2)\n",
    "        # When develop, remove following and using random input to get the output size\n",
    "        self.fc = torch.nn.Linear(1408,10)\n",
    "        self.active = torch.nn.ReLU()\n",
    "\n",
    "    def forward(self, x):\n",
    "        in_size = x.size(0)\n",
    "        x = self.active(self.max_pooling(self.conv1(x)))\n",
    "        x = self.inception1(x)\n",
    "        # 88 = 24+16+24+24, output of inception1\n",
    "        x = self.active(self.max_pooling(self.conv2(x)))\n",
    "        x = self.inception2(x)\n",
    "        x = x.view(in_size, -1)\n",
    "        x = self.fc(x)\n",
    "        return x\n",
    "\n",
    "model = Net()"
   ]
  },
  {
   "cell_type": "code",
   "execution_count": null,
   "metadata": {},
   "outputs": [],
   "source": [
    "criterion =  torch.nn.CrossEntropyLoss()\n",
    "optimizer = optim.SGD(model.parameters(), lr=0.01, momentum=0.5)"
   ]
  },
  {
   "cell_type": "code",
   "execution_count": null,
   "metadata": {},
   "outputs": [],
   "source": [
    "def train(epoch):\n",
    "    running_loss = 0.0\n",
    "    for batch_idx, data in enumerate(train_loader, 0):\n",
    "        inputs, traget = data\n",
    "        optimizer.zero_grad()\n",
    "\n",
    "        # forward + backward + optimize\n",
    "        outputs = model(inputs)\n",
    "        loss = criterion(outputs, traget)\n",
    "        loss.backward()\n",
    "        optimizer.step()\n",
    "\n",
    "        # print statistics\n",
    "        running_loss += loss.item()\n",
    "        if batch_idx % 300 == 299:\n",
    "            print('[%d, %5d] loss: %.3f' % (epoch+1, batch_idx+1, running_loss/300))\n",
    "            running_loss = 0.0\n",
    "\n",
    "def test():\n",
    "    correct = 0\n",
    "    total = 0\n",
    "    # no_grad() to avoid gradient calculation\n",
    "    with torch.no_grad():\n",
    "        for data in test_loader:\n",
    "            inputs, traget = data\n",
    "            outputs = model(inputs)\n",
    "            # torch.max() return (max_value, index), dim=1 means max in each row\n",
    "            _, predicted = torch.max(outputs.data, dim=1)\n",
    "            total += traget.size(0)\n",
    "            correct += (predicted == traget).sum().item()\n",
    "    print('Accuracy on test set: %d %%' % (100*correct/total))\n",
    "    return 100*correct/total"
   ]
  },
  {
   "cell_type": "code",
   "execution_count": null,
   "metadata": {},
   "outputs": [
    {
     "name": "stdout",
     "output_type": "stream",
     "text": [
      "[1,   300] loss: 0.888\n",
      "[1,   600] loss: 0.218\n",
      "[1,   900] loss: 0.147\n",
      "Accuracy on test set: 96 %\n",
      "[2,   300] loss: 0.116\n",
      "[2,   600] loss: 0.099\n",
      "[2,   900] loss: 0.083\n",
      "Accuracy on test set: 97 %\n",
      "[3,   300] loss: 0.084\n",
      "[3,   600] loss: 0.070\n",
      "[3,   900] loss: 0.070\n",
      "Accuracy on test set: 98 %\n",
      "[4,   300] loss: 0.063\n",
      "[4,   600] loss: 0.063\n",
      "[4,   900] loss: 0.063\n",
      "Accuracy on test set: 98 %\n",
      "[5,   300] loss: 0.055\n",
      "[5,   600] loss: 0.057\n",
      "[5,   900] loss: 0.054\n",
      "Accuracy on test set: 98 %\n",
      "[6,   300] loss: 0.047\n",
      "[6,   600] loss: 0.053\n",
      "[6,   900] loss: 0.047\n",
      "Accuracy on test set: 98 %\n",
      "[7,   300] loss: 0.043\n",
      "[7,   600] loss: 0.049\n",
      "[7,   900] loss: 0.042\n",
      "Accuracy on test set: 98 %\n",
      "[8,   300] loss: 0.040\n",
      "[8,   600] loss: 0.043\n",
      "[8,   900] loss: 0.040\n",
      "Accuracy on test set: 98 %\n",
      "[9,   300] loss: 0.038\n",
      "[9,   600] loss: 0.037\n",
      "[9,   900] loss: 0.040\n",
      "Accuracy on test set: 98 %\n",
      "[10,   300] loss: 0.034\n",
      "[10,   600] loss: 0.037\n",
      "[10,   900] loss: 0.035\n",
      "Accuracy on test set: 98 %\n"
     ]
    }
   ],
   "source": [
    "if __name__ == '__main__':\n",
    "    accuracy_list = []\n",
    "    for epoch in range(10):\n",
    "        train(epoch)\n",
    "        accuracy = test()\n",
    "        accuracy_list.append(accuracy)"
   ]
  },
  {
   "cell_type": "code",
   "execution_count": null,
   "metadata": {},
   "outputs": [
    {
     "data": {
      "text/plain": [
       "Text(0.5, 0, 'Epoch')"
      ]
     },
     "metadata": {},
     "output_type": "display_data"
    },
    {
     "data": {
      "image/png": "[encoded data removed]",
      "text/plain": [
       "<Figure size 640x480 with 1 Axes>"
      ]
     },
     "metadata": {},
     "output_type": "display_data"
    }
   ],
   "source": [
    "import matplotlib.pyplot as plt\n",
    "import numpy as np\n",
    "\n",
    "plt.plot(np.arange(10), accuracy_list)\n",
    "plt.ylabel('Accuracy')\n",
    "plt.xlabel('Epoch')"
   ]
  },
  {
   "cell_type": "markdown",
   "metadata": {},
   "source": [
    "#### ResNet\n",
    "\n",
    "##### Residual Block\n",
    "\n",
    "Why: solve the problem of vanishing gradient\n",
    "How: add a shortcut connection\n",
    "<div style=\"text-align: center\">\n",
    "    <img src=\"./Asset/p7.png\" width=\"300\" height=\"250\">\n",
    "</div>\n",
    "\n",
    "$$\\frac{\\partial H(x)}{\\partial x} = \\frac{\\partial F(x)}{\\partial x} + 1$$\n",
    "\n",
    "Input and output channel must be the same for residual block"
   ]
  },
  {
   "cell_type": "code",
   "execution_count": null,
   "metadata": {},
   "outputs": [],
   "source": [
    "class ResidualBlock(nn.Module):\n",
    "    # Given channels,force input and output of all conv layers have the same channels\n",
    "    def __init__(self, channels):\n",
    "        super(ResidualBlock, self).__init__()\n",
    "        self.channels = channels\n",
    "        self.conv1 = nn.Conv2d(channels, channels, kernel_size=3, padding=1)\n",
    "        self.conv2 = nn.Conv2d(channels, channels, kernel_size=3, padding=1)\n",
    "        self.active = nn.ReLU()\n",
    "\n",
    "    def forward(self, x):\n",
    "        # Residual block: x + conv2(conv1(x))\n",
    "        y = self.active(self.conv1(x))\n",
    "        y = self.conv2(y)\n",
    "        return self.active(y + x)"
   ]
  },
  {
   "cell_type": "markdown",
   "metadata": {},
   "source": [
    "<div style=\"text-align: center\">\n",
    "    <img src=\"./Asset/p8.png\" width=\"400\" height=\"350\">\n",
    "</div>"
   ]
  },
  {
   "cell_type": "code",
   "execution_count": null,
   "metadata": {},
   "outputs": [],
   "source": [
    "class ResNet(nn.Module):\n",
    "    def __init__(self):\n",
    "        super(ResNet, self).__init__()\n",
    "        self.conv1 = torch.nn.Conv2d(1,16,kernel_size=5)\n",
    "        self.conv2 = torch.nn.Conv2d(16,32,kernel_size=5)\n",
    "        self.active = torch.nn.ReLU()\n",
    "        self.max_pooling = torch.nn.MaxPool2d(2)\n",
    "        \n",
    "        self.res1 = ResidualBlock(channels=16)\n",
    "        self.res2 = ResidualBlock(channels=32)\n",
    "\n",
    "        # When develop, remove following and using random input to get the output size\n",
    "        self.fc = torch.nn.Linear(512,10)\n",
    "\n",
    "    def forward(self, x):\n",
    "        in_size = x.size(0)\n",
    "        x = self.max_pooling(self.active(self.conv1(x)))\n",
    "        x = self.res1(x)\n",
    "        x = self.max_pooling(self.active(self.conv2(x)))\n",
    "        x = self.res2(x)\n",
    "        x = x.view(in_size, -1)\n",
    "        x = self.fc(x)\n",
    "        return x\n",
    "\n",
    "model = ResNet()"
   ]
  },
  {
   "cell_type": "code",
   "execution_count": null,
   "metadata": {},
   "outputs": [],
   "source": [
    "criterion =  torch.nn.CrossEntropyLoss()\n",
    "optimizer = optim.SGD(model.parameters(), lr=0.01, momentum=0.5)"
   ]
  },
  {
   "cell_type": "code",
   "execution_count": null,
   "metadata": {},
   "outputs": [],
   "source": [
    "def train(epoch):\n",
    "    running_loss = 0.0\n",
    "    for batch_idx, data in enumerate(train_loader, 0):\n",
    "        inputs, traget = data\n",
    "        optimizer.zero_grad()\n",
    "\n",
    "        # forward + backward + optimize\n",
    "        outputs = model(inputs)\n",
    "        loss = criterion(outputs, traget)\n",
    "        loss.backward()\n",
    "        optimizer.step()\n",
    "\n",
    "        # print statistics\n",
    "        running_loss += loss.item()\n",
    "        if batch_idx % 300 == 299:\n",
    "            print('[%d, %5d] loss: %.3f' % (epoch+1, batch_idx+1, running_loss/300))\n",
    "            running_loss = 0.0\n",
    "\n",
    "def test():\n",
    "    correct = 0\n",
    "    total = 0\n",
    "    # no_grad() to avoid gradient calculation\n",
    "    with torch.no_grad():\n",
    "        for data in test_loader:\n",
    "            inputs, traget = data\n",
    "            outputs = model(inputs)\n",
    "            # torch.max() return (max_value, index), dim=1 means max in each row\n",
    "            _, predicted = torch.max(outputs.data, dim=1)\n",
    "            total += traget.size(0)\n",
    "            correct += (predicted == traget).sum().item()\n",
    "    print('Accuracy on test set: %d %%' % (100*correct/total))\n",
    "    return 100*correct/total"
   ]
  },
  {
   "cell_type": "code",
   "execution_count": null,
   "metadata": {},
   "outputs": [
    {
     "name": "stdout",
     "output_type": "stream",
     "text": [
      "[1,   300] loss: 0.505\n",
      "[1,   600] loss: 0.146\n",
      "[1,   900] loss: 0.099\n",
      "Accuracy on test set: 97 %\n",
      "[2,   300] loss: 0.090\n",
      "[2,   600] loss: 0.071\n",
      "[2,   900] loss: 0.069\n",
      "Accuracy on test set: 98 %\n",
      "[3,   300] loss: 0.063\n",
      "[3,   600] loss: 0.055\n",
      "[3,   900] loss: 0.056\n",
      "Accuracy on test set: 98 %\n",
      "[4,   300] loss: 0.047\n",
      "[4,   600] loss: 0.047\n",
      "[4,   900] loss: 0.048\n",
      "Accuracy on test set: 98 %\n",
      "[5,   300] loss: 0.038\n",
      "[5,   600] loss: 0.042\n",
      "[5,   900] loss: 0.040\n",
      "Accuracy on test set: 98 %\n",
      "[6,   300] loss: 0.035\n",
      "[6,   600] loss: 0.036\n",
      "[6,   900] loss: 0.033\n",
      "Accuracy on test set: 98 %\n",
      "[7,   300] loss: 0.028\n",
      "[7,   600] loss: 0.032\n",
      "[7,   900] loss: 0.032\n",
      "Accuracy on test set: 98 %\n",
      "[8,   300] loss: 0.028\n",
      "[8,   600] loss: 0.026\n",
      "[8,   900] loss: 0.030\n",
      "Accuracy on test set: 98 %\n",
      "[9,   300] loss: 0.025\n",
      "[9,   600] loss: 0.025\n",
      "[9,   900] loss: 0.023\n",
      "Accuracy on test set: 99 %\n",
      "[10,   300] loss: 0.023\n",
      "[10,   600] loss: 0.024\n",
      "[10,   900] loss: 0.020\n",
      "Accuracy on test set: 99 %\n"
     ]
    }
   ],
   "source": [
    "if __name__ == '__main__':\n",
    "    accuracy_list = []\n",
    "    for epoch in range(10):\n",
    "        train(epoch)\n",
    "        accuracy = test()\n",
    "        accuracy_list.append(accuracy)"
   ]
  },
  {
   "cell_type": "code",
   "execution_count": null,
   "metadata": {},
   "outputs": [
    {
     "data": {
      "text/plain": [
       "Text(0.5, 0, 'Epoch')"
      ]
     },
     "metadata": {},
     "output_type": "display_data"
    },
    {
     "data": {
      "image/png": "[encoded data removed]",
      "text/plain": [
       "<Figure size 640x480 with 1 Axes>"
      ]
     },
     "metadata": {},
     "output_type": "display_data"
    }
   ],
   "source": [
    "import matplotlib.pyplot as plt\n",
    "import numpy as np\n",
    "\n",
    "plt.plot(np.arange(10), accuracy_list)\n",
    "plt.ylabel('Accuracy')\n",
    "plt.xlabel('Epoch')"
   ]
  },
  {
   "cell_type": "markdown",
   "metadata": {},
   "source": [
    "##### Two variations of ResNet\n",
    "<div style=\"text-align: center\">\n",
    "    <img src=\"./Asset/p9.png\" width=\"500\" height=\"200\">\n",
    "</div>"
   ]
  },
  {
   "cell_type": "code",
   "execution_count": null,
   "metadata": {},
   "outputs": [],
   "source": [
    "# Constant Scaling\n",
    "class Cons_scal_res_block(nn.Module):\n",
    "    # Given channels,force input and output of all conv layers have the same channels\n",
    "    def __init__(self, channels):\n",
    "        super(ResidualBlock, self).__init__()\n",
    "        self.channels = channels\n",
    "        self.conv1 = nn.Conv2d(channels, channels, kernel_size=3, padding=1)\n",
    "        self.conv2 = nn.Conv2d(channels, channels, kernel_size=3, padding=1)\n",
    "        self.active = nn.ReLU()\n",
    "\n",
    "    def forward(self, x):\n",
    "        # Residual block: x + conv2(conv1(x))\n",
    "        y = self.active(self.conv1(x))\n",
    "        y = self.conv2(y)\n",
    "        return self.active((y + x)*0.5)"
   ]
  },
  {
   "cell_type": "code",
   "execution_count": null,
   "metadata": {},
   "outputs": [],
   "source": [
    "# Conv shortcut\n",
    "class Conv_shortcut_res_block(nn.Module):\n",
    "    # Given channels,force input and output of all conv layers have the same channels\n",
    "    def __init__(self, channels):\n",
    "        super(ResidualBlock, self).__init__()\n",
    "        self.channels = channels\n",
    "        self.conv1 = nn.Conv2d(channels, channels, kernel_size=3, padding=1)\n",
    "        self.conv2 = nn.Conv2d(channels, channels, kernel_size=3, padding=1)\n",
    "        self.conv_shortcut = nn.Conv2d(channels, channels, kernel_size=1)\n",
    "        self.active = nn.ReLU()\n",
    "\n",
    "    def forward(self, x):\n",
    "        # Residual block: x + conv2(conv1(x))\n",
    "        y = self.active(self.conv1(x))\n",
    "        y = self.conv2(y)\n",
    "        return self.active(y + self.conv_shortcut(x))"
   ]
  }
 ],
 "metadata": {
  "kernelspec": {
   "display_name": "pytorch",
   "language": "python",
   "name": "python3"
  },
  "language_info": {
   "name": "python",
   "version": "3.9.17"
  }
 },
 "nbformat": 4,
 "nbformat_minor": 2
}

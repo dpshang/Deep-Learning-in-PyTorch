{
 "cells": [
  {
   "cell_type": "markdown",
   "metadata": {},
   "source": [
    "# RNN Classifier\n",
    "\n",
    "***Dapeng Shang, BU Questrom***"
   ]
  },
  {
   "cell_type": "code",
   "execution_count": 74,
   "metadata": {},
   "outputs": [],
   "source": [
    "import torch\n",
    "from torch.utils.data import Dataset\n",
    "from torch.utils.data import DataLoader\n",
    "\n",
    "import csv\n",
    "import gzip\n",
    "\n",
    "import matplotlib.pyplot as plt\n",
    "import numpy as np"
   ]
  },
  {
   "cell_type": "code",
   "execution_count": 75,
   "metadata": {},
   "outputs": [],
   "source": [
    "# Parameters\n",
    "HIDDEN_SIZE = 100\n",
    "BATCH_SIZE = 256\n",
    "N_LAYER = 2\n",
    "N_EPOCHS = 20\n",
    "# N_CHARS is the size of ASCII dictionary\n",
    "N_CHARS = 128\n",
    "USE_GPU = False"
   ]
  },
  {
   "cell_type": "markdown",
   "metadata": {},
   "source": [
    "#### 1. Preparing the data\n",
    "\n",
    "Name $\\to$ Charasters $\\to$ ASCII (one-hot encoding) $\\to$ Padding (creating a tensor of same size)\n",
    "\n",
    "Country $\\to$ Index\n"
   ]
  },
  {
   "cell_type": "code",
   "execution_count": 76,
   "metadata": {},
   "outputs": [],
   "source": [
    "class NameDataset(Dataset):\n",
    "    def __init__(self, is_train=True):\n",
    "        # Read all the data into memory\n",
    "        filename = 'names_train.csv.gz' if is_train else 'names_test.csv.gz'\n",
    "        with gzip.open(filename, 'rt') as f:\n",
    "            reader = csv.reader(f)\n",
    "            # row : (name, language)\n",
    "            rows = list(reader)\n",
    "        self.names = [row[0] for row in rows]\n",
    "        self.len = len(self.names)\n",
    "        self.countries = [row[1] for row in rows]\n",
    "        # Country to Index\n",
    "        self.country_list = list(sorted(set(self.countries)))\n",
    "        self.country_dict = self.getCountryDict()\n",
    "        self.country_num = len(self.country_list)\n",
    "\n",
    "    def __getitem__(self, idx):\n",
    "        # countries[idx] is name of country, using dict to get index\n",
    "        return self.names[idx], self.country_dict[self.countries[idx]]\n",
    "\n",
    "    def __len__(self):\n",
    "        return self.len\n",
    "\n",
    "    def getCountryDict(self):\n",
    "        country_dict = dict()\n",
    "        for idx, country_name in enumerate(self.country_list, 0):\n",
    "            country_dict[country_name] = idx\n",
    "        return country_dict\n",
    "\n",
    "    # Helper function\n",
    "    def idx2country(self, index):\n",
    "        return self.country_list[index]\n",
    "    \n",
    "    def getCountryNum(self):\n",
    "        return self.country_num"
   ]
  },
  {
   "cell_type": "code",
   "execution_count": 77,
   "metadata": {},
   "outputs": [],
   "source": [
    "trainset = NameDataset(is_train=True)\n",
    "trainloader = DataLoader(trainset, batch_size=BATCH_SIZE, shuffle=True)\n",
    "testset = NameDataset(is_train=False)\n",
    "testloader = DataLoader(testset, batch_size=BATCH_SIZE, shuffle=False)\n",
    "\n",
    "N_CLASSES = trainset.getCountryNum()\n",
    "\n",
    "def create_tensor(tensor):\n",
    "    if USE_GPU:\n",
    "        device = torch.device('cuda:0')\n",
    "        tensor = tensor.to(device)\n",
    "    return tensor"
   ]
  },
  {
   "cell_type": "markdown",
   "metadata": {},
   "source": [
    "#### 2. Creating the model\n",
    "\n",
    "<div style=\"text-align: center\">\n",
    "    <img src=\"./Asset/p18.png\" width=\"500\" height=\"150\">\n",
    "</div>\n",
    "\n",
    "For GRU layer:\n",
    "<div style=\"text-align: center\">\n",
    "    <img src=\"./Asset/p19.png\" width=\"300\" height=\"300\">\n",
    "</div>\n",
    "\n",
    "For this classifier, we only need last hidden state of the GRU layer $h_N$, as input to the fully connected layer. The output of the fully connected layer will be the output of the classifier."
   ]
  },
  {
   "cell_type": "code",
   "execution_count": 78,
   "metadata": {},
   "outputs": [],
   "source": [
    "class RNNClassifier(torch.nn.Module):\n",
    "    def __init__(self, input_size, hidden_size, output_size, n_layers=1, bidirectional=True):\n",
    "        super(RNNClassifier, self).__init__()\n",
    "        self.hidden_size = hidden_size\n",
    "        self.n_layers = n_layers\n",
    "        self.n_directions = 2 if bidirectional else 1\n",
    "\n",
    "        # embedding layer: input: (seq_len, batch), output: (seq_len, batch, hidden_size\n",
    "        self.embedding = torch.nn.Embedding(input_size, hidden_size)\n",
    "        # GRU: Inputs: input: (seq_len, batch, input_size), h_0: (n_layers * n_directions, batch, hidden_size)\n",
    "        # Outputs: output: (seq_len, batch, hidden_size * n_directions), h_n: (n_layers * n_directions, batch, hidden_size)\n",
    "        self.gru = torch.nn.GRU(hidden_size, hidden_size, n_layers, bidirectional=bidirectional)\n",
    "        self.fc = torch.nn.Linear(hidden_size * self.n_directions, output_size)\n",
    "\n",
    "    def __init_hidden__(self, batch_size):\n",
    "        hidden = torch.zeros(self.n_layers * self.n_directions, batch_size, self.hidden_size)\n",
    "        return create_tensor(hidden)\n",
    "    \n",
    "    def forward(self, input, seq_lengths):\n",
    "        # input: (batch, seq_len)\n",
    "        batch_size = input.size(0)\n",
    "        input = input.t() # transpose: (seq_len, batch)\n",
    "        # Embedding: (seq_len, batch, hidden_size)\n",
    "        embedded = self.embedding(input)\n",
    "        # Initialize hidden state\n",
    "        hidden = self.__init_hidden__(batch_size)\n",
    "       \n",
    "        # Pack it up: aviod computation on padded elements\n",
    "        # PackedSequence is used to handle variable length input\n",
    "        # It requires to sort the batch element by length of sequence and use length of sequence as input\n",
    "        seq_lengths = seq_lengths.cpu() # it must be on CPU for torch.nn.utils.rnn.pack_padded_sequence() to work\n",
    "        gru_input = torch.nn.utils.rnn.pack_padded_sequence(embedded, seq_lengths)\n",
    "        _, hidden = self.gru(gru_input, hidden)\n",
    "        \n",
    "        # # No pack_padded_sequence\n",
    "        # _, hidden = self.gru(embedded, hidden)\n",
    "\n",
    "        if self.n_directions == 2:\n",
    "            hidden_cat = torch.cat([hidden[-1], hidden[-2]], dim=1)\n",
    "        else:\n",
    "            hidden_cat = hidden[-1]\n",
    "        return self.fc(hidden_cat)\n"
   ]
  },
  {
   "cell_type": "markdown",
   "metadata": {},
   "source": [
    "##### What's bi-directional?\n",
    "\n",
    "<div style=\"text-align: center\">\n",
    "    <img src=\"./Asset/p20.png\" width=\"600\" height=\"250\">\n",
    "</div>\n",
    "\n",
    "Two processes are running at the same time, one is forward and the other is backward. \n",
    "\n",
    "Output is $[h_0, ..., h_N]$, where **$h_N = [h_N^f, h_0^b]$**.\n",
    "\n",
    "**Hidden is $[h_N^f, h_N^b]$**, size of hidden is $n\\_directions \\times hidden\\_size$."
   ]
  },
  {
   "cell_type": "markdown",
   "metadata": {},
   "source": [
    "#### 3. Convert name to tensor\n",
    "\n",
    "<div style=\"text-align: center\">\n",
    "    <img src=\"./Asset/p21.png\" width=\"500\" height=\"250\">\n",
    "</div>\n",
    "\n",
    "Name  $\\to$ Charasters $\\to$ ASCII (one-hot encoding) $\\to$ Padding (batch_size, seq_len) $\\to$ Transpose (seq_len, batch_size) $\\to$ Sort batch by sequence length"
   ]
  },
  {
   "cell_type": "code",
   "execution_count": 79,
   "metadata": {},
   "outputs": [],
   "source": [
    "def name2list(name):\n",
    "    # ord: convert char to ASCII code\n",
    "    arr = [ord(c) for c in name]\n",
    "    return arr, len(arr)\n",
    "\n",
    "def make_tensor(names, countries):\n",
    "    # return [(name, len(name)), ...]\n",
    "    array = [name2list(name) for name in names]\n",
    "    name_seq = [s[0] for s in array]\n",
    "    seq_lengths = torch.LongTensor([s[1] for s in array])\n",
    "    countries = countries.long()\n",
    "\n",
    "    # Pad all sequences to same length (batch_size, max_name_len)\n",
    "    batch_size = len(name_seq)\n",
    "    seq_tensor = torch.zeros(batch_size, seq_lengths.max()).long()\n",
    "    for idx, (seq, seq_len) in enumerate(zip(name_seq, seq_lengths), 0):\n",
    "        seq_tensor[idx, :seq_len] = torch.LongTensor(seq)\n",
    "\n",
    "    # Sort by length to use pack_padded_sequence, no need if not using it\n",
    "    # .sort return (sorted_tensor, sorted_indices)\n",
    "    seq_lengths, perm_idx = seq_lengths.sort(dim=0, descending=True)\n",
    "    seq_tensor = seq_tensor[perm_idx]\n",
    "    countries = countries[perm_idx]\n",
    "    \n",
    "    return create_tensor(seq_tensor), \\\n",
    "            create_tensor(seq_lengths), \\\n",
    "            create_tensor(countries)"
   ]
  },
  {
   "cell_type": "code",
   "execution_count": 80,
   "metadata": {},
   "outputs": [],
   "source": [
    "# Instantiate the classifier model, N_CHARS is the size of ASCII dictionary\n",
    "classifier = RNNClassifier(N_CHARS, HIDDEN_SIZE, N_CLASSES, N_LAYER)\n",
    "if USE_GPU:\n",
    "    device = torch.device('cuda:0')\n",
    "    classifier.to(device)"
   ]
  },
  {
   "cell_type": "code",
   "execution_count": 81,
   "metadata": {},
   "outputs": [
    {
     "data": {
      "text/plain": [
       "RNNClassifier(\n",
       "  (embedding): Embedding(128, 100)\n",
       "  (gru): GRU(100, 100, num_layers=2, bidirectional=True)\n",
       "  (fc): Linear(in_features=200, out_features=18, bias=True)\n",
       ")"
      ]
     },
     "execution_count": 81,
     "metadata": {},
     "output_type": "execute_result"
    }
   ],
   "source": [
    "classifier"
   ]
  },
  {
   "cell_type": "markdown",
   "metadata": {},
   "source": [
    "#### 4. Criterion and Optimizer"
   ]
  },
  {
   "cell_type": "code",
   "execution_count": 82,
   "metadata": {},
   "outputs": [],
   "source": [
    "criterion = torch.nn.CrossEntropyLoss()\n",
    "optimizer = torch.optim.Adam(classifier.parameters(), lr=0.001)"
   ]
  },
  {
   "cell_type": "markdown",
   "metadata": {},
   "source": [
    "#### 5. Training"
   ]
  },
  {
   "cell_type": "code",
   "execution_count": 83,
   "metadata": {},
   "outputs": [],
   "source": [
    "def trainModel(epoch):\n",
    "    epoch_loss = []\n",
    "    for i, (names, countries) in enumerate(trainloader, 1):\n",
    "        inputs, seq_lengths, target = make_tensor(names, countries)\n",
    "        output = classifier(inputs, seq_lengths)\n",
    "        loss = criterion(output, target)\n",
    "        optimizer.zero_grad()\n",
    "        loss.backward()\n",
    "        optimizer.step()\n",
    "        \n",
    "        epoch_loss.append(loss.item())\n",
    "\n",
    "    avg_loss = sum(epoch_loss) / len(epoch_loss)\n",
    "    print(f'Epoch {epoch}: loss = {avg_loss}')\n",
    "    return avg_loss\n",
    "\n",
    "def testModel():\n",
    "    correct = 0\n",
    "    total = len(testset)\n",
    "    with torch.no_grad():\n",
    "        for i, (names, countries) in enumerate(testloader, 1):\n",
    "            inputs, seq_lengths, target = make_tensor(names, countries)\n",
    "            output = classifier(inputs, seq_lengths)\n",
    "            pred = output.max(dim=1, keepdim=True)[1]\n",
    "            correct += pred.eq(target.view_as(pred)).sum().item()\n",
    "        \n",
    "        percent = '%.2f' % (100 * correct / total)\n",
    "        print(f'Test set: Accuracy {correct}/{total} {percent}%')\n",
    "\n",
    "    return correct / total\n"
   ]
  },
  {
   "cell_type": "code",
   "execution_count": 84,
   "metadata": {},
   "outputs": [
    {
     "name": "stdout",
     "output_type": "stream",
     "text": [
      "Training for 20 epochs...\n",
      "Epoch 1: loss = 1.5185290417581234\n",
      "Test set: Accuracy 4508/6700 67.28%\n",
      "Epoch 2: loss = 0.9808212215045713\n",
      "Test set: Accuracy 4942/6700 73.76%\n",
      "Epoch 3: loss = 0.779700073431123\n",
      "Test set: Accuracy 5236/6700 78.15%\n",
      "Epoch 4: loss = 0.6625556501577485\n",
      "Test set: Accuracy 5364/6700 80.06%\n",
      "Epoch 5: loss = 0.5806960604100857\n",
      "Test set: Accuracy 5427/6700 81.00%\n",
      "Epoch 6: loss = 0.5196889891939344\n",
      "Test set: Accuracy 5490/6700 81.94%\n",
      "Epoch 7: loss = 0.47026423575743187\n",
      "Test set: Accuracy 5549/6700 82.82%\n",
      "Epoch 8: loss = 0.42435285786412796\n",
      "Test set: Accuracy 5575/6700 83.21%\n",
      "Epoch 9: loss = 0.39313668237542204\n",
      "Test set: Accuracy 5590/6700 83.43%\n",
      "Epoch 10: loss = 0.3550996111249024\n",
      "Test set: Accuracy 5639/6700 84.16%\n",
      "Epoch 11: loss = 0.3165827475066455\n",
      "Test set: Accuracy 5643/6700 84.22%\n",
      "Epoch 12: loss = 0.2892655749928276\n",
      "Test set: Accuracy 5652/6700 84.36%\n",
      "Epoch 13: loss = 0.2582947774878088\n",
      "Test set: Accuracy 5656/6700 84.42%\n",
      "Epoch 14: loss = 0.22609637284053946\n",
      "Test set: Accuracy 5660/6700 84.48%\n",
      "Epoch 15: loss = 0.20083859844027824\n",
      "Test set: Accuracy 5644/6700 84.24%\n",
      "Epoch 16: loss = 0.1816852425910392\n",
      "Test set: Accuracy 5628/6700 84.00%\n",
      "Epoch 17: loss = 0.16111889579948388\n",
      "Test set: Accuracy 5646/6700 84.27%\n",
      "Epoch 18: loss = 0.14719420980732395\n",
      "Test set: Accuracy 5625/6700 83.96%\n",
      "Epoch 19: loss = 0.1324450637934343\n",
      "Test set: Accuracy 5609/6700 83.72%\n",
      "Epoch 20: loss = 0.11467164909502245\n",
      "Test set: Accuracy 5615/6700 83.81%\n"
     ]
    }
   ],
   "source": [
    "print('Training for %d epochs...' % N_EPOCHS)\n",
    "loss_list = []\n",
    "acc_list = []\n",
    "for epoch in range(1, N_EPOCHS + 1):\n",
    "    # Train cycle\n",
    "    loss =trainModel(epoch)\n",
    "    acc = testModel()\n",
    "    loss_list.append(loss)\n",
    "    acc_list.append(acc)"
   ]
  },
  {
   "cell_type": "code",
   "execution_count": 85,
   "metadata": {},
   "outputs": [
    {
     "data": {
      "image/png": "[encoded data removed]",
      "text/plain": [
       "<Figure size 640x480 with 2 Axes>"
      ]
     },
     "metadata": {},
     "output_type": "display_data"
    }
   ],
   "source": [
    "plt.subplot(1,2,1)\n",
    "epochs = list(range(1,N_EPOCHS+1))\n",
    "plt.plot(epochs,loss_list, label=\"Train loss\")\n",
    "plt.grid()\n",
    "plt.xlabel('Epoch')\n",
    "plt.ylabel('Loss')\n",
    "plt.subplot(1,2,2)\n",
    "plt.plot(epochs, acc_list, label=\"test accuracy\")\n",
    "plt.grid()\n",
    "plt.xlabel('Epoch')\n",
    "plt.ylabel('Accuracy')\n",
    "plt.show()"
   ]
  },
  {
   "cell_type": "code",
   "execution_count": null,
   "metadata": {},
   "outputs": [],
   "source": []
  }
 ],
 "metadata": {
  "kernelspec": {
   "display_name": "pytorch",
   "language": "python",
   "name": "python3"
  },
  "language_info": {
   "codemirror_mode": {
    "name": "ipython",
    "version": 3
   },
   "file_extension": ".py",
   "mimetype": "text/x-python",
   "name": "python",
   "nbconvert_exporter": "python",
   "pygments_lexer": "ipython3",
   "version": "3.9.17"
  }
 },
 "nbformat": 4,
 "nbformat_minor": 2
}
